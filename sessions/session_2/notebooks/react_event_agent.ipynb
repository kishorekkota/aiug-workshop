{
 "cells": [
  {
   "cell_type": "markdown",
   "metadata": {},
   "source": [
    "### Prebuilt react agent with search tool and memory"
   ]
  },
  {
   "cell_type": "code",
   "execution_count": 30,
   "metadata": {},
   "outputs": [],
   "source": [
    "# Import relevant functionality\n",
    "from langchain_openai import ChatOpenAI\n",
    "from langchain_community.tools.tavily_search import TavilySearchResults\n",
    "from langchain_core.messages import HumanMessage\n",
    "from langgraph.checkpoint.sqlite import SqliteSaver\n",
    "from langchain_core.messages import BaseMessage\n",
    "from langgraph.prebuilt import create_react_agent"
   ]
  },
  {
   "cell_type": "code",
   "execution_count": 31,
   "metadata": {},
   "outputs": [],
   "source": [
    "# Create the agent with memory\n",
    "memory = SqliteSaver.from_conn_string(\":memory:\")\n",
    "model = ChatOpenAI(model='gpt-4o')\n",
    "search = TavilySearchResults(max_results=2)\n",
    "tools = [search]\n",
    "agent_executor = create_react_agent(model, tools, checkpointer=memory)"
   ]
  },
  {
   "cell_type": "code",
   "execution_count": 40,
   "metadata": {},
   "outputs": [],
   "source": [
    "# Use the agent with specific thread id (memory)\n",
    "config = {\"configurable\": {\"thread_id\": \"user4\"}}"
   ]
  },
  {
   "cell_type": "code",
   "execution_count": 41,
   "metadata": {},
   "outputs": [
    {
     "name": "stdout",
     "output_type": "stream",
     "text": [
      "{'agent': {'messages': [AIMessage(content='Hello! How can I assist you today?', response_metadata={'token_usage': {'completion_tokens': 10, 'prompt_tokens': 80, 'total_tokens': 90}, 'model_name': 'gpt-4o-2024-05-13', 'system_fingerprint': 'fp_4e2b2da518', 'finish_reason': 'stop', 'logprobs': None}, id='run-55c5eb8c-2169-4bcd-9f5f-76f533a132f0-0', usage_metadata={'input_tokens': 80, 'output_tokens': 10, 'total_tokens': 90})]}}\n",
      "Assistant: Hello! How can I assist you today?\n",
      "{'agent': {'messages': [AIMessage(content=\"That's great! Running a 5K is a fun and rewarding goal. Do you need help with training plans, gear recommendations, or finding a race near you? Let me know how I can assist you.\", response_metadata={'token_usage': {'completion_tokens': 43, 'prompt_tokens': 105, 'total_tokens': 148}, 'model_name': 'gpt-4o-2024-05-13', 'system_fingerprint': 'fp_4e2b2da518', 'finish_reason': 'stop', 'logprobs': None}, id='run-68af0e13-d3ae-4fd1-9433-9b71d5ae40f1-0', usage_metadata={'input_tokens': 105, 'output_tokens': 43, 'total_tokens': 148})]}}\n",
      "Assistant: That's great! Running a 5K is a fun and rewarding goal. Do you need help with training plans, gear recommendations, or finding a race near you? Let me know how I can assist you.\n",
      "{'agent': {'messages': [AIMessage(content='', additional_kwargs={'tool_calls': [{'id': 'call_4GIQGJ6R4JWg8bbLDZnWZLhc', 'function': {'arguments': '{\"query\":\"5K race San Francisco August September 2023\"}', 'name': 'tavily_search_results_json'}, 'type': 'function'}]}, response_metadata={'token_usage': {'completion_tokens': 27, 'prompt_tokens': 168, 'total_tokens': 195}, 'model_name': 'gpt-4o-2024-05-13', 'system_fingerprint': 'fp_4e2b2da518', 'finish_reason': 'tool_calls', 'logprobs': None}, id='run-37cc12c4-6429-42b8-8aa6-488fa6ef5e89-0', tool_calls=[{'name': 'tavily_search_results_json', 'args': {'query': '5K race San Francisco August September 2023'}, 'id': 'call_4GIQGJ6R4JWg8bbLDZnWZLhc', 'type': 'tool_call'}], usage_metadata={'input_tokens': 168, 'output_tokens': 27, 'total_tokens': 195})]}}\n",
      "Assistant: \n",
      "{'tools': {'messages': [ToolMessage(content='[{\"url\": \"https://raceroster.com/events/2023/75481/2023-san-francisco-giant-race-presented-by-alaska-airlines\", \"content\": \"Thank you for joining us on September 3rd, 2023 at Oracle Park for the 14th Annual San Francisco Giant Race presented by Alaska Airlines at Oracle Park for our 5K or 10K along the iconic San Francisco waterfront and finish on the Field! If you can\\'t make it live, pick our virtual option to run anywhere in the world.\"}, {\"url\": \"https://race-sfgiants.com/race_event/san-francisco/\", \"content\": \"Registration is NOW OPEN for the 2024 San Francisco Giant Race presented by Alaska Airlines on Sunday, August 18! Choose between 5K, 10K, Half Marathon distances along the iconic San Francisco waterfront before crossing the finish line on the field at Oracle Park.\"}]', name='tavily_search_results_json', tool_call_id='call_4GIQGJ6R4JWg8bbLDZnWZLhc')]}}\n",
      "Assistant: [{\"url\": \"https://raceroster.com/events/2023/75481/2023-san-francisco-giant-race-presented-by-alaska-airlines\", \"content\": \"Thank you for joining us on September 3rd, 2023 at Oracle Park for the 14th Annual San Francisco Giant Race presented by Alaska Airlines at Oracle Park for our 5K or 10K along the iconic San Francisco waterfront and finish on the Field! If you can't make it live, pick our virtual option to run anywhere in the world.\"}, {\"url\": \"https://race-sfgiants.com/race_event/san-francisco/\", \"content\": \"Registration is NOW OPEN for the 2024 San Francisco Giant Race presented by Alaska Airlines on Sunday, August 18! Choose between 5K, 10K, Half Marathon distances along the iconic San Francisco waterfront before crossing the finish line on the field at Oracle Park.\"}]\n",
      "{'agent': {'messages': [AIMessage(content=\"I found a couple of 5K races in San Francisco for you:\\n\\n1. **San Francisco Giant Race presented by Alaska Airlines**\\n   - **Date:** September 3rd, 2023\\n   - **Location:** Oracle Park\\n   - **Details:** You can choose between a 5K or 10K along the iconic San Francisco waterfront and finish on the field at Oracle Park. There is also a virtual option if you can't make it in person.\\n   - **More Info & Registration:** [San Francisco Giant Race](https://raceroster.com/events/2023/75481/2023-san-francisco-giant-race-presented-by-alaska-airlines)\\n\\n2. **San Francisco Giant Race presented by Alaska Airlines (2024)**\\n   - **Date:** August 18th, 2024 (if you want to plan ahead for next year)\\n   - **Location:** Oracle Park\\n   - **Details:** Similar race options with 5K, 10K, and Half Marathon distances along the San Francisco waterfront.\\n   - **More Info & Registration:** [San Francisco Giant Race 2024](https://race-sfgiants.com/race_event/san-francisco/)\\n\\nWould you like more information on any of these races or assistance with something else?\", response_metadata={'token_usage': {'completion_tokens': 269, 'prompt_tokens': 404, 'total_tokens': 673}, 'model_name': 'gpt-4o-2024-05-13', 'system_fingerprint': 'fp_4e2b2da518', 'finish_reason': 'stop', 'logprobs': None}, id='run-0b920cb6-c126-4257-9b81-c5a9ade2108d-0', usage_metadata={'input_tokens': 404, 'output_tokens': 269, 'total_tokens': 673})]}}\n",
      "Assistant: I found a couple of 5K races in San Francisco for you:\n",
      "\n",
      "1. **San Francisco Giant Race presented by Alaska Airlines**\n",
      "   - **Date:** September 3rd, 2023\n",
      "   - **Location:** Oracle Park\n",
      "   - **Details:** You can choose between a 5K or 10K along the iconic San Francisco waterfront and finish on the field at Oracle Park. There is also a virtual option if you can't make it in person.\n",
      "   - **More Info & Registration:** [San Francisco Giant Race](https://raceroster.com/events/2023/75481/2023-san-francisco-giant-race-presented-by-alaska-airlines)\n",
      "\n",
      "2. **San Francisco Giant Race presented by Alaska Airlines (2024)**\n",
      "   - **Date:** August 18th, 2024 (if you want to plan ahead for next year)\n",
      "   - **Location:** Oracle Park\n",
      "   - **Details:** Similar race options with 5K, 10K, and Half Marathon distances along the San Francisco waterfront.\n",
      "   - **More Info & Registration:** [San Francisco Giant Race 2024](https://race-sfgiants.com/race_event/san-francisco/)\n",
      "\n",
      "Would you like more information on any of these races or assistance with something else?\n",
      "{'agent': {'messages': [AIMessage(content='', additional_kwargs={'tool_calls': [{'id': 'call_nT9AXNCxEMGskKLp5B69zuzM', 'function': {'arguments': '{\"query\":\"5K race San Francisco August 2024\"}', 'name': 'tavily_search_results_json'}, 'type': 'function'}]}, response_metadata={'token_usage': {'completion_tokens': 26, 'prompt_tokens': 694, 'total_tokens': 720}, 'model_name': 'gpt-4o-2024-05-13', 'system_fingerprint': 'fp_4e2b2da518', 'finish_reason': 'tool_calls', 'logprobs': None}, id='run-4de5493c-4f87-410f-af52-4b72f403419d-0', tool_calls=[{'name': 'tavily_search_results_json', 'args': {'query': '5K race San Francisco August 2024'}, 'id': 'call_nT9AXNCxEMGskKLp5B69zuzM', 'type': 'tool_call'}], usage_metadata={'input_tokens': 694, 'output_tokens': 26, 'total_tokens': 720})]}}\n",
      "Assistant: \n",
      "{'tools': {'messages': [ToolMessage(content='[{\"url\": \"https://race-sfgiants.com/\", \"content\": \"San Francisco 2024. More Info. 5K, 10K, HALF MARATHON, VIRTUAL + KIDS RACE. ... San Francisco, CA - The Giant Race, ... Join us on Sunday, August 18 for an unforgettable 5K, 10K or Half Marathon along the waterfront and cross the finish on the field at Oracle Park. ...\"}, {\"url\": \"https://raceroster.com/events/2024/82714/2024-san-francisco-giant-race-presented-by-alaska-airlines\", \"content\": \"Registration is NOW OPEN for the 2024 San Francisco Giant Race presented by Alaska Airlines on Sunday, August 18. Choose between 5K, 10K and Half Marathon distances along the iconic San Francisco waterfront before crossing the finish line on the field at Oracle Park. If you can\\'t make it in-person, join our virtual run from anywhere in the world. Join us the day before the race on Saturday ...\"}]', name='tavily_search_results_json', tool_call_id='call_nT9AXNCxEMGskKLp5B69zuzM')]}}\n",
      "Assistant: [{\"url\": \"https://race-sfgiants.com/\", \"content\": \"San Francisco 2024. More Info. 5K, 10K, HALF MARATHON, VIRTUAL + KIDS RACE. ... San Francisco, CA - The Giant Race, ... Join us on Sunday, August 18 for an unforgettable 5K, 10K or Half Marathon along the waterfront and cross the finish on the field at Oracle Park. ...\"}, {\"url\": \"https://raceroster.com/events/2024/82714/2024-san-francisco-giant-race-presented-by-alaska-airlines\", \"content\": \"Registration is NOW OPEN for the 2024 San Francisco Giant Race presented by Alaska Airlines on Sunday, August 18. Choose between 5K, 10K and Half Marathon distances along the iconic San Francisco waterfront before crossing the finish line on the field at Oracle Park. If you can't make it in-person, join our virtual run from anywhere in the world. Join us the day before the race on Saturday ...\"}]\n",
      "{'agent': {'messages': [AIMessage(content=\"I found a 5K race in San Francisco scheduled for August 2024:\\n\\n1. **San Francisco Giant Race presented by Alaska Airlines**\\n   - **Date:** August 18th, 2024\\n   - **Location:** Oracle Park\\n   - **Details:** Choose between a 5K, 10K, or Half Marathon along the iconic San Francisco waterfront, finishing on the field at Oracle Park. There is also a virtual option available if you can't attend in person.\\n   - **More Info & Registration:** [San Francisco Giant Race 2024](https://raceroster.com/events/2024/82714/2024-san-francisco-giant-race-presented-by-alaska-airlines)\\n\\nWould you like any additional details or assistance with something else?\", response_metadata={'token_usage': {'completion_tokens': 162, 'prompt_tokens': 954, 'total_tokens': 1116}, 'model_name': 'gpt-4o-2024-05-13', 'system_fingerprint': 'fp_4e2b2da518', 'finish_reason': 'stop', 'logprobs': None}, id='run-f01617b5-e49a-4fb3-be6a-ed28a9a6f3f5-0', usage_metadata={'input_tokens': 954, 'output_tokens': 162, 'total_tokens': 1116})]}}\n",
      "Assistant: I found a 5K race in San Francisco scheduled for August 2024:\n",
      "\n",
      "1. **San Francisco Giant Race presented by Alaska Airlines**\n",
      "   - **Date:** August 18th, 2024\n",
      "   - **Location:** Oracle Park\n",
      "   - **Details:** Choose between a 5K, 10K, or Half Marathon along the iconic San Francisco waterfront, finishing on the field at Oracle Park. There is also a virtual option available if you can't attend in person.\n",
      "   - **More Info & Registration:** [San Francisco Giant Race 2024](https://raceroster.com/events/2024/82714/2024-san-francisco-giant-race-presented-by-alaska-airlines)\n",
      "\n",
      "Would you like any additional details or assistance with something else?\n",
      "{'agent': {'messages': [AIMessage(content='', additional_kwargs={'tool_calls': [{'id': 'call_ysutlgRvqHHu5aFpo3WEwMlm', 'function': {'arguments': '{\"query\":\"5K race San Francisco August September 2024\"}', 'name': 'tavily_search_results_json'}, 'type': 'function'}]}, response_metadata={'token_usage': {'completion_tokens': 27, 'prompt_tokens': 1146, 'total_tokens': 1173}, 'model_name': 'gpt-4o-2024-05-13', 'system_fingerprint': 'fp_4e2b2da518', 'finish_reason': 'tool_calls', 'logprobs': None}, id='run-d0b738b8-7076-4f4e-a60e-0b2b08ccd727-0', tool_calls=[{'name': 'tavily_search_results_json', 'args': {'query': '5K race San Francisco August September 2024'}, 'id': 'call_ysutlgRvqHHu5aFpo3WEwMlm', 'type': 'tool_call'}], usage_metadata={'input_tokens': 1146, 'output_tokens': 27, 'total_tokens': 1173})]}}\n",
      "Assistant: \n",
      "{'tools': {'messages': [ToolMessage(content='[{\"url\": \"https://www.raceplace.com/city/bay-area-california/5k\", \"content\": \"Find upcoming 5k running races in the Bay Area, Ca. Search our race calendar to find you next race or read up on how to train for your next PR. ... San Francisco, CA Sat - Aug 10, 2024 Running > 10k. Run Against Breast Cancer 5K/10K/13.1 SAN FRANCISCO. San Francisco, CA ... September 2024 The Great Housing Run 5k Run. San Jose, CA Sep 1, 2024 ...\"}, {\"url\": \"https://race-sfgiants.com/\", \"content\": \"San Francisco 2024. More Info. 5K, 10K, HALF MARATHON, VIRTUAL + KIDS RACE. ... San Francisco, CA - The Giant Race, ... Join us on Sunday, August 18 for an unforgettable 5K, 10K or Half Marathon along the waterfront and cross the finish on the field at Oracle Park. ...\"}]', name='tavily_search_results_json', tool_call_id='call_ysutlgRvqHHu5aFpo3WEwMlm')]}}\n",
      "Assistant: [{\"url\": \"https://www.raceplace.com/city/bay-area-california/5k\", \"content\": \"Find upcoming 5k running races in the Bay Area, Ca. Search our race calendar to find you next race or read up on how to train for your next PR. ... San Francisco, CA Sat - Aug 10, 2024 Running > 10k. Run Against Breast Cancer 5K/10K/13.1 SAN FRANCISCO. San Francisco, CA ... September 2024 The Great Housing Run 5k Run. San Jose, CA Sep 1, 2024 ...\"}, {\"url\": \"https://race-sfgiants.com/\", \"content\": \"San Francisco 2024. More Info. 5K, 10K, HALF MARATHON, VIRTUAL + KIDS RACE. ... San Francisco, CA - The Giant Race, ... Join us on Sunday, August 18 for an unforgettable 5K, 10K or Half Marathon along the waterfront and cross the finish on the field at Oracle Park. ...\"}]\n",
      "{'agent': {'messages': [AIMessage(content=\"Here are some 5K races in San Francisco for August and September 2024:\\n\\n1. **San Francisco Giant Race presented by Alaska Airlines**\\n   - **Date:** August 18th, 2024\\n   - **Location:** Oracle Park\\n   - **Details:** Choose between a 5K, 10K, or Half Marathon along the iconic San Francisco waterfront, finishing on the field at Oracle Park. There is also a virtual option available if you can't attend in person.\\n   - **More Info & Registration:** [San Francisco Giant Race 2024](https://race-sfgiants.com/)\\n\\n2. **Run Against Breast Cancer 5K/10K/13.1**\\n   - **Date:** August 10th, 2024\\n   - **Location:** San Francisco, CA\\n   - **Details:** This race includes options for a 5K, 10K, and half marathon.\\n   - **More Info & Registration:** [RacePlace - Bay Area 5K Races](https://www.raceplace.com/city/bay-area-california/5k)\\n\\nWould you like more information on any of these races or assistance with something else?\", response_metadata={'token_usage': {'completion_tokens': 247, 'prompt_tokens': 1412, 'total_tokens': 1659}, 'model_name': 'gpt-4o-2024-05-13', 'system_fingerprint': 'fp_4e2b2da518', 'finish_reason': 'stop', 'logprobs': None}, id='run-e9c5e54b-352c-4515-9380-564a2c460e87-0', usage_metadata={'input_tokens': 1412, 'output_tokens': 247, 'total_tokens': 1659})]}}\n",
      "Assistant: Here are some 5K races in San Francisco for August and September 2024:\n",
      "\n",
      "1. **San Francisco Giant Race presented by Alaska Airlines**\n",
      "   - **Date:** August 18th, 2024\n",
      "   - **Location:** Oracle Park\n",
      "   - **Details:** Choose between a 5K, 10K, or Half Marathon along the iconic San Francisco waterfront, finishing on the field at Oracle Park. There is also a virtual option available if you can't attend in person.\n",
      "   - **More Info & Registration:** [San Francisco Giant Race 2024](https://race-sfgiants.com/)\n",
      "\n",
      "2. **Run Against Breast Cancer 5K/10K/13.1**\n",
      "   - **Date:** August 10th, 2024\n",
      "   - **Location:** San Francisco, CA\n",
      "   - **Details:** This race includes options for a 5K, 10K, and half marathon.\n",
      "   - **More Info & Registration:** [RacePlace - Bay Area 5K Races](https://www.raceplace.com/city/bay-area-california/5k)\n",
      "\n",
      "Would you like more information on any of these races or assistance with something else?\n",
      "Goodbye!\n"
     ]
    }
   ],
   "source": [
    "# pass in config and call agent_executor.stream to interact with the agent\n",
    "while True:\n",
    "    user_input = input(\"User: \")\n",
    "    if user_input.lower() in [\"quit\", \"exit\", \"q\"]:\n",
    "        print(\"Goodbye!\")\n",
    "        break\n",
    "    for event in agent_executor.stream({\"messages\": [(\"user\", user_input)]}, config):\n",
    "        print(event)\n",
    "        for value in event.values():\n",
    "            if isinstance(value[\"messages\"][-1], BaseMessage):\n",
    "                print(\"Assistant:\", value[\"messages\"][-1].content)"
   ]
  },
  {
   "cell_type": "code",
   "execution_count": 38,
   "metadata": {},
   "outputs": [
    {
     "data": {
      "text/plain": [
       "[HumanMessage(content='hi my name is rick', id='b61c7081-6cc5-4633-b4df-18913d31ad0a'),\n",
       " AIMessage(content='Hello, Rick! How can I assist you today?', response_metadata={'token_usage': {'completion_tokens': 12, 'prompt_tokens': 85, 'total_tokens': 97}, 'model_name': 'gpt-4o-2024-05-13', 'system_fingerprint': 'fp_4e2b2da518', 'finish_reason': 'stop', 'logprobs': None}, id='run-a84063d1-3895-4a5e-a234-cf6c15ad7d51-0', usage_metadata={'input_tokens': 85, 'output_tokens': 12, 'total_tokens': 97}),\n",
       " HumanMessage(content='what is my name?', id='f691b6cb-cf74-426d-a43b-0f7d9b885d3e'),\n",
       " AIMessage(content='Your name is Rick. How can I help you further?', response_metadata={'token_usage': {'completion_tokens': 13, 'prompt_tokens': 109, 'total_tokens': 122}, 'model_name': 'gpt-4o-2024-05-13', 'system_fingerprint': 'fp_4e2b2da518', 'finish_reason': 'stop', 'logprobs': None}, id='run-c32b27f7-e42b-4ea0-b4ae-9832e02cdffd-0', usage_metadata={'input_tokens': 109, 'output_tokens': 13, 'total_tokens': 122})]"
      ]
     },
     "execution_count": 38,
     "metadata": {},
     "output_type": "execute_result"
    }
   ],
   "source": [
    "# check what's stored in memory\n",
    "agent_executor.get_state(config).values['messages']"
   ]
  },
  {
   "cell_type": "code",
   "execution_count": null,
   "metadata": {},
   "outputs": [],
   "source": []
  }
 ],
 "metadata": {
  "kernelspec": {
   "display_name": "venv",
   "language": "python",
   "name": "python3"
  },
  "language_info": {
   "codemirror_mode": {
    "name": "ipython",
    "version": 3
   },
   "file_extension": ".py",
   "mimetype": "text/x-python",
   "name": "python",
   "nbconvert_exporter": "python",
   "pygments_lexer": "ipython3",
   "version": "3.9.6"
  }
 },
 "nbformat": 4,
 "nbformat_minor": 2
}
